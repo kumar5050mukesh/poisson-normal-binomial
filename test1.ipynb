{
 "cells": [
  {
   "cell_type": "code",
   "execution_count": null,
   "metadata": {},
   "outputs": [],
   "source": [
    "#Q1 What is the Probability density function?\n",
    "\"\"\"probailoty density function is the distribution of the continious random variable \"\"\"\n",
    "\n",
    "'''main properties\n",
    "(a) the derivative of the cumulatived distribution function gives the probability density function that means \n",
    "the slope at any point of the cdf gives the value pdf \n",
    "\n",
    "(b)the pdf is used to calcualte the probaility that the continious random variable falls within a certain range \n",
    "\n",
    "(c)the pdf can be used to calcualate the statistical parameters like mean ,median , and the standard deviation\n",
    "\n",
    "(D)the pdf is also used for the hypothesis testing and the regression analysis'''"
   ]
  },
  {
   "cell_type": "code",
   "execution_count": null,
   "metadata": {},
   "outputs": [],
   "source": [
    "\"\"\"Q2. What are the types of Probability distribution?\"\"\"\n",
    "\"\"\"There are many types of probability distributions, but some of the most common ones are:\n",
    "\n",
    "Bernoulli distribution ----> A probability distribution with two possible outcomes, typically labeled as success (p)\n",
    " and failure (1-p).\n",
    "\n",
    "Binomial distribution-----> A probability distribution that explains the  number of successes in a fixed number of \n",
    "independent Bernoulli trials.\n",
    "\n",
    "Poisson distribution-------> A probability distribution that describes the number of events that occur in a fixed time\n",
    " interval or space, assuming that events occur independently and at a constant rate.\n",
    "\n",
    "Normal distribution: A probability distribution that is symmetric and bell-shaped, and is often used to model real-world data \n",
    "that are approximately normal.\"\"\"\n",
    "\n",
    "\n",
    "\n",
    "\n",
    "\n",
    "\n",
    "\n",
    "\n",
    "\n",
    "\n"
   ]
  },
  {
   "cell_type": "code",
   "execution_count": 3,
   "metadata": {},
   "outputs": [
    {
     "data": {
      "application/vnd.plotly.v1+json": {
       "config": {
        "plotlyServerURL": "https://plot.ly"
       },
       "data": [
        {
         "alignmentgroup": "True",
         "bingroup": "x",
         "hovertemplate": "variable=0<br>value=%{x}<br>count=%{y}<extra></extra>",
         "legendgroup": "0",
         "marker": {
          "color": "#636efa",
          "pattern": {
           "shape": ""
          }
         },
         "name": "0",
         "nbinsx": 10,
         "offsetgroup": "0",
         "orientation": "v",
         "showlegend": true,
         "type": "histogram",
         "x": [
          0.1415853706425596,
          -0.4878202486488667,
          0.22717353546915983,
          -0.07754876389716554,
          -0.015648330123513188,
          0.5037771358094832,
          -1.1244146608299737,
          -1.403715896808171,
          0.1601328652616615,
          0.9498397381720629,
          -0.18280658537067826,
          -0.8923010416058886,
          0.31307719940405104,
          0.46444025780518794,
          1.3401624168576898,
          -1.202562874258507,
          1.909573300020891,
          -0.24703664599011885,
          0.527699985046727,
          1.4725088222433123,
          0.7359862477687867,
          0.13118865647824093,
          1.3062668906576567,
          -0.8936938810671695,
          0.6716417686716929,
          0.48178108649853846,
          -0.9822196661322545,
          -0.19743347184100005,
          -1.7324211126811737,
          0.17157286284011172,
          -0.3298623027878755,
          0.29463933684244825,
          0.14865650093237773,
          0.3330652916790375,
          0.7290506455440918,
          1.1151060534117674,
          -0.36001738027805114,
          -0.39521278364359097,
          0.566319417513558,
          0.05797857526095439,
          -1.6371108355690445,
          0.29547202896148567,
          0.10105727044695563,
          1.8228334445468701,
          -0.8778148052494752,
          -0.8819749346243345,
          0.3873781713588481,
          2.5547180998141057,
          -0.42333401707156953,
          1.3119081223388958,
          0.9672954259681954,
          -0.6372814403278821,
          -0.12090345328997829,
          0.8860334753517606,
          1.1554089480462755,
          -3.0193175806232944,
          1.281561478345043,
          -1.7136410012610885,
          0.809370920967937,
          1.0400389826805594,
          0.9124404188167912,
          0.44630263075927884,
          0.5248539801582558,
          0.11114427415667516,
          -2.4152296986749695,
          0.5441867160632909,
          -0.4794629893134952,
          0.9882468233281265,
          -0.3462733632581492,
          -1.2337503283853046,
          1.5753020339636483,
          -1.1583048803087725,
          0.5144995287167758,
          -1.5025542220083554,
          -0.5970908275181331,
          0.42539831447730636,
          0.5812677006720388,
          1.8728045608838004,
          0.6062541451981073,
          -1.0721689531192178,
          1.0974497134194292,
          0.19382431151987453,
          0.4575917450057628,
          1.408205027066976,
          -2.480882909574376,
          0.24009091297926158,
          -1.594602353909854,
          1.0964210693592917,
          0.5782045370601442,
          1.0359134006064892,
          0.3258892012911761,
          0.3935303086931435,
          -0.12011448841517797,
          -1.4811971846408916,
          -0.3690481497794286,
          -0.09259957012920779,
          0.7302320420439294,
          1.91395751764611,
          -0.3547772051293208,
          -1.0601470225366174
         ],
         "xaxis": "x",
         "yaxis": "y"
        }
       ],
       "layout": {
        "barmode": "relative",
        "legend": {
         "title": {
          "text": "variable"
         },
         "tracegroupgap": 0
        },
        "margin": {
         "t": 60
        },
        "template": {
         "data": {
          "bar": [
           {
            "error_x": {
             "color": "#2a3f5f"
            },
            "error_y": {
             "color": "#2a3f5f"
            },
            "marker": {
             "line": {
              "color": "#E5ECF6",
              "width": 0.5
             },
             "pattern": {
              "fillmode": "overlay",
              "size": 10,
              "solidity": 0.2
             }
            },
            "type": "bar"
           }
          ],
          "barpolar": [
           {
            "marker": {
             "line": {
              "color": "#E5ECF6",
              "width": 0.5
             },
             "pattern": {
              "fillmode": "overlay",
              "size": 10,
              "solidity": 0.2
             }
            },
            "type": "barpolar"
           }
          ],
          "carpet": [
           {
            "aaxis": {
             "endlinecolor": "#2a3f5f",
             "gridcolor": "white",
             "linecolor": "white",
             "minorgridcolor": "white",
             "startlinecolor": "#2a3f5f"
            },
            "baxis": {
             "endlinecolor": "#2a3f5f",
             "gridcolor": "white",
             "linecolor": "white",
             "minorgridcolor": "white",
             "startlinecolor": "#2a3f5f"
            },
            "type": "carpet"
           }
          ],
          "choropleth": [
           {
            "colorbar": {
             "outlinewidth": 0,
             "ticks": ""
            },
            "type": "choropleth"
           }
          ],
          "contour": [
           {
            "colorbar": {
             "outlinewidth": 0,
             "ticks": ""
            },
            "colorscale": [
             [
              0,
              "#0d0887"
             ],
             [
              0.1111111111111111,
              "#46039f"
             ],
             [
              0.2222222222222222,
              "#7201a8"
             ],
             [
              0.3333333333333333,
              "#9c179e"
             ],
             [
              0.4444444444444444,
              "#bd3786"
             ],
             [
              0.5555555555555556,
              "#d8576b"
             ],
             [
              0.6666666666666666,
              "#ed7953"
             ],
             [
              0.7777777777777778,
              "#fb9f3a"
             ],
             [
              0.8888888888888888,
              "#fdca26"
             ],
             [
              1,
              "#f0f921"
             ]
            ],
            "type": "contour"
           }
          ],
          "contourcarpet": [
           {
            "colorbar": {
             "outlinewidth": 0,
             "ticks": ""
            },
            "type": "contourcarpet"
           }
          ],
          "heatmap": [
           {
            "colorbar": {
             "outlinewidth": 0,
             "ticks": ""
            },
            "colorscale": [
             [
              0,
              "#0d0887"
             ],
             [
              0.1111111111111111,
              "#46039f"
             ],
             [
              0.2222222222222222,
              "#7201a8"
             ],
             [
              0.3333333333333333,
              "#9c179e"
             ],
             [
              0.4444444444444444,
              "#bd3786"
             ],
             [
              0.5555555555555556,
              "#d8576b"
             ],
             [
              0.6666666666666666,
              "#ed7953"
             ],
             [
              0.7777777777777778,
              "#fb9f3a"
             ],
             [
              0.8888888888888888,
              "#fdca26"
             ],
             [
              1,
              "#f0f921"
             ]
            ],
            "type": "heatmap"
           }
          ],
          "heatmapgl": [
           {
            "colorbar": {
             "outlinewidth": 0,
             "ticks": ""
            },
            "colorscale": [
             [
              0,
              "#0d0887"
             ],
             [
              0.1111111111111111,
              "#46039f"
             ],
             [
              0.2222222222222222,
              "#7201a8"
             ],
             [
              0.3333333333333333,
              "#9c179e"
             ],
             [
              0.4444444444444444,
              "#bd3786"
             ],
             [
              0.5555555555555556,
              "#d8576b"
             ],
             [
              0.6666666666666666,
              "#ed7953"
             ],
             [
              0.7777777777777778,
              "#fb9f3a"
             ],
             [
              0.8888888888888888,
              "#fdca26"
             ],
             [
              1,
              "#f0f921"
             ]
            ],
            "type": "heatmapgl"
           }
          ],
          "histogram": [
           {
            "marker": {
             "pattern": {
              "fillmode": "overlay",
              "size": 10,
              "solidity": 0.2
             }
            },
            "type": "histogram"
           }
          ],
          "histogram2d": [
           {
            "colorbar": {
             "outlinewidth": 0,
             "ticks": ""
            },
            "colorscale": [
             [
              0,
              "#0d0887"
             ],
             [
              0.1111111111111111,
              "#46039f"
             ],
             [
              0.2222222222222222,
              "#7201a8"
             ],
             [
              0.3333333333333333,
              "#9c179e"
             ],
             [
              0.4444444444444444,
              "#bd3786"
             ],
             [
              0.5555555555555556,
              "#d8576b"
             ],
             [
              0.6666666666666666,
              "#ed7953"
             ],
             [
              0.7777777777777778,
              "#fb9f3a"
             ],
             [
              0.8888888888888888,
              "#fdca26"
             ],
             [
              1,
              "#f0f921"
             ]
            ],
            "type": "histogram2d"
           }
          ],
          "histogram2dcontour": [
           {
            "colorbar": {
             "outlinewidth": 0,
             "ticks": ""
            },
            "colorscale": [
             [
              0,
              "#0d0887"
             ],
             [
              0.1111111111111111,
              "#46039f"
             ],
             [
              0.2222222222222222,
              "#7201a8"
             ],
             [
              0.3333333333333333,
              "#9c179e"
             ],
             [
              0.4444444444444444,
              "#bd3786"
             ],
             [
              0.5555555555555556,
              "#d8576b"
             ],
             [
              0.6666666666666666,
              "#ed7953"
             ],
             [
              0.7777777777777778,
              "#fb9f3a"
             ],
             [
              0.8888888888888888,
              "#fdca26"
             ],
             [
              1,
              "#f0f921"
             ]
            ],
            "type": "histogram2dcontour"
           }
          ],
          "mesh3d": [
           {
            "colorbar": {
             "outlinewidth": 0,
             "ticks": ""
            },
            "type": "mesh3d"
           }
          ],
          "parcoords": [
           {
            "line": {
             "colorbar": {
              "outlinewidth": 0,
              "ticks": ""
             }
            },
            "type": "parcoords"
           }
          ],
          "pie": [
           {
            "automargin": true,
            "type": "pie"
           }
          ],
          "scatter": [
           {
            "fillpattern": {
             "fillmode": "overlay",
             "size": 10,
             "solidity": 0.2
            },
            "type": "scatter"
           }
          ],
          "scatter3d": [
           {
            "line": {
             "colorbar": {
              "outlinewidth": 0,
              "ticks": ""
             }
            },
            "marker": {
             "colorbar": {
              "outlinewidth": 0,
              "ticks": ""
             }
            },
            "type": "scatter3d"
           }
          ],
          "scattercarpet": [
           {
            "marker": {
             "colorbar": {
              "outlinewidth": 0,
              "ticks": ""
             }
            },
            "type": "scattercarpet"
           }
          ],
          "scattergeo": [
           {
            "marker": {
             "colorbar": {
              "outlinewidth": 0,
              "ticks": ""
             }
            },
            "type": "scattergeo"
           }
          ],
          "scattergl": [
           {
            "marker": {
             "colorbar": {
              "outlinewidth": 0,
              "ticks": ""
             }
            },
            "type": "scattergl"
           }
          ],
          "scattermapbox": [
           {
            "marker": {
             "colorbar": {
              "outlinewidth": 0,
              "ticks": ""
             }
            },
            "type": "scattermapbox"
           }
          ],
          "scatterpolar": [
           {
            "marker": {
             "colorbar": {
              "outlinewidth": 0,
              "ticks": ""
             }
            },
            "type": "scatterpolar"
           }
          ],
          "scatterpolargl": [
           {
            "marker": {
             "colorbar": {
              "outlinewidth": 0,
              "ticks": ""
             }
            },
            "type": "scatterpolargl"
           }
          ],
          "scatterternary": [
           {
            "marker": {
             "colorbar": {
              "outlinewidth": 0,
              "ticks": ""
             }
            },
            "type": "scatterternary"
           }
          ],
          "surface": [
           {
            "colorbar": {
             "outlinewidth": 0,
             "ticks": ""
            },
            "colorscale": [
             [
              0,
              "#0d0887"
             ],
             [
              0.1111111111111111,
              "#46039f"
             ],
             [
              0.2222222222222222,
              "#7201a8"
             ],
             [
              0.3333333333333333,
              "#9c179e"
             ],
             [
              0.4444444444444444,
              "#bd3786"
             ],
             [
              0.5555555555555556,
              "#d8576b"
             ],
             [
              0.6666666666666666,
              "#ed7953"
             ],
             [
              0.7777777777777778,
              "#fb9f3a"
             ],
             [
              0.8888888888888888,
              "#fdca26"
             ],
             [
              1,
              "#f0f921"
             ]
            ],
            "type": "surface"
           }
          ],
          "table": [
           {
            "cells": {
             "fill": {
              "color": "#EBF0F8"
             },
             "line": {
              "color": "white"
             }
            },
            "header": {
             "fill": {
              "color": "#C8D4E3"
             },
             "line": {
              "color": "white"
             }
            },
            "type": "table"
           }
          ]
         },
         "layout": {
          "annotationdefaults": {
           "arrowcolor": "#2a3f5f",
           "arrowhead": 0,
           "arrowwidth": 1
          },
          "autotypenumbers": "strict",
          "coloraxis": {
           "colorbar": {
            "outlinewidth": 0,
            "ticks": ""
           }
          },
          "colorscale": {
           "diverging": [
            [
             0,
             "#8e0152"
            ],
            [
             0.1,
             "#c51b7d"
            ],
            [
             0.2,
             "#de77ae"
            ],
            [
             0.3,
             "#f1b6da"
            ],
            [
             0.4,
             "#fde0ef"
            ],
            [
             0.5,
             "#f7f7f7"
            ],
            [
             0.6,
             "#e6f5d0"
            ],
            [
             0.7,
             "#b8e186"
            ],
            [
             0.8,
             "#7fbc41"
            ],
            [
             0.9,
             "#4d9221"
            ],
            [
             1,
             "#276419"
            ]
           ],
           "sequential": [
            [
             0,
             "#0d0887"
            ],
            [
             0.1111111111111111,
             "#46039f"
            ],
            [
             0.2222222222222222,
             "#7201a8"
            ],
            [
             0.3333333333333333,
             "#9c179e"
            ],
            [
             0.4444444444444444,
             "#bd3786"
            ],
            [
             0.5555555555555556,
             "#d8576b"
            ],
            [
             0.6666666666666666,
             "#ed7953"
            ],
            [
             0.7777777777777778,
             "#fb9f3a"
            ],
            [
             0.8888888888888888,
             "#fdca26"
            ],
            [
             1,
             "#f0f921"
            ]
           ],
           "sequentialminus": [
            [
             0,
             "#0d0887"
            ],
            [
             0.1111111111111111,
             "#46039f"
            ],
            [
             0.2222222222222222,
             "#7201a8"
            ],
            [
             0.3333333333333333,
             "#9c179e"
            ],
            [
             0.4444444444444444,
             "#bd3786"
            ],
            [
             0.5555555555555556,
             "#d8576b"
            ],
            [
             0.6666666666666666,
             "#ed7953"
            ],
            [
             0.7777777777777778,
             "#fb9f3a"
            ],
            [
             0.8888888888888888,
             "#fdca26"
            ],
            [
             1,
             "#f0f921"
            ]
           ]
          },
          "colorway": [
           "#636efa",
           "#EF553B",
           "#00cc96",
           "#ab63fa",
           "#FFA15A",
           "#19d3f3",
           "#FF6692",
           "#B6E880",
           "#FF97FF",
           "#FECB52"
          ],
          "font": {
           "color": "#2a3f5f"
          },
          "geo": {
           "bgcolor": "white",
           "lakecolor": "white",
           "landcolor": "#E5ECF6",
           "showlakes": true,
           "showland": true,
           "subunitcolor": "white"
          },
          "hoverlabel": {
           "align": "left"
          },
          "hovermode": "closest",
          "mapbox": {
           "style": "light"
          },
          "paper_bgcolor": "white",
          "plot_bgcolor": "#E5ECF6",
          "polar": {
           "angularaxis": {
            "gridcolor": "white",
            "linecolor": "white",
            "ticks": ""
           },
           "bgcolor": "#E5ECF6",
           "radialaxis": {
            "gridcolor": "white",
            "linecolor": "white",
            "ticks": ""
           }
          },
          "scene": {
           "xaxis": {
            "backgroundcolor": "#E5ECF6",
            "gridcolor": "white",
            "gridwidth": 2,
            "linecolor": "white",
            "showbackground": true,
            "ticks": "",
            "zerolinecolor": "white"
           },
           "yaxis": {
            "backgroundcolor": "#E5ECF6",
            "gridcolor": "white",
            "gridwidth": 2,
            "linecolor": "white",
            "showbackground": true,
            "ticks": "",
            "zerolinecolor": "white"
           },
           "zaxis": {
            "backgroundcolor": "#E5ECF6",
            "gridcolor": "white",
            "gridwidth": 2,
            "linecolor": "white",
            "showbackground": true,
            "ticks": "",
            "zerolinecolor": "white"
           }
          },
          "shapedefaults": {
           "line": {
            "color": "#2a3f5f"
           }
          },
          "ternary": {
           "aaxis": {
            "gridcolor": "white",
            "linecolor": "white",
            "ticks": ""
           },
           "baxis": {
            "gridcolor": "white",
            "linecolor": "white",
            "ticks": ""
           },
           "bgcolor": "#E5ECF6",
           "caxis": {
            "gridcolor": "white",
            "linecolor": "white",
            "ticks": ""
           }
          },
          "title": {
           "x": 0.05
          },
          "xaxis": {
           "automargin": true,
           "gridcolor": "white",
           "linecolor": "white",
           "ticks": "",
           "title": {
            "standoff": 15
           },
           "zerolinecolor": "white",
           "zerolinewidth": 2
          },
          "yaxis": {
           "automargin": true,
           "gridcolor": "white",
           "linecolor": "white",
           "ticks": "",
           "title": {
            "standoff": 15
           },
           "zerolinecolor": "white",
           "zerolinewidth": 2
          }
         }
        },
        "xaxis": {
         "anchor": "y",
         "domain": [
          0,
          1
         ],
         "title": {
          "text": "value"
         }
        },
        "yaxis": {
         "anchor": "x",
         "domain": [
          0,
          1
         ],
         "title": {
          "text": "count"
         }
        }
       }
      }
     },
     "metadata": {},
     "output_type": "display_data"
    }
   ],
   "source": [
    "# Q3. Write a Python function to calculate the probability density function of a normal distribution with\n",
    "# given mean and standard deviation at a given point\n",
    "\n",
    "import numpy as np\n",
    "import plotly.express as px\n",
    "\n",
    "x = np.random.normal(loc=0, scale=1, size=100)\n",
    "\n",
    "\n",
    "fig = px.histogram(x, bins=10)\n",
    "\n",
    "fig.show()\n",
    "\n"
   ]
  },
  {
   "cell_type": "code",
   "execution_count": 5,
   "metadata": {},
   "outputs": [
    {
     "name": "stdout",
     "output_type": "stream",
     "text": [
      "0.24197072451914337\n"
     ]
    }
   ],
   "source": [
    "\"\"\"Q3. Write a Python function to calculate the probability density function of a normal distribution with\n",
    "given mean and standard deviation at a given point.\"\"\"\n",
    "\n",
    "\n",
    "import math\n",
    "\n",
    "def normal_pdf(x, mu, sigma):\n",
    "    coef = 1 / (sigma * math.sqrt(2 * math.pi))\n",
    "    exponent = -0.5 * ((x - mu) / sigma) ** 2\n",
    "    return coef * math.exp(exponent)\n",
    "\n",
    "\"\"\"the given point is x ,mean is mu , and the standard deviation is sigma \"\"\"\n",
    "\"\"\"mu= mean, sigma=standard deviation , point is =x\"\"\"\n",
    "\n",
    "mu = 0\n",
    "sigma = 1\n",
    "x = 1\n",
    "\n",
    "pdf = normal_pdf(x, mu, sigma)\n",
    "\n",
    "print(pdf)\n",
    "\n"
   ]
  },
  {
   "cell_type": "code",
   "execution_count": null,
   "metadata": {},
   "outputs": [],
   "source": [
    "# Q4. What are the properties of Binomial distribution? Give two examples of events where binomial\n",
    "# # distribution can be applied.\n",
    "\n",
    "\"\"\"(a)answer--the experiment consist of a sequence of n identical trials\n",
    "(b)two possile outcome is possible one is success and other is failure \n",
    "(c)the probability of the success and failure does not change from the trail to trail\n",
    "(d)the trails are independent \n",
    "\n",
    "\n",
    "\n",
    "product quality control - we can find the probability of k defective products out of the n products \n",
    "if the probability of getting a  defective product is p and not getting the defective product is 1-p\n",
    "\n",
    "\n",
    "coin toss- what is the probility of getting k heads when we toss a coin \n",
    "\n",
    "\"\"\"\n"
   ]
  },
  {
   "cell_type": "code",
   "execution_count": 6,
   "metadata": {},
   "outputs": [],
   "source": [
    "# Q5. Generate a random sample of size 1000 from a binomial distribution with probability of success 0.4\n",
    "# and plot a histogram of the results using matplotlib.\n",
    "\n",
    "import numpy as np\n",
    "y=np.random.binomial(n=20, p=0.8, size=1000)\n",
    "\n",
    "\n"
   ]
  },
  {
   "cell_type": "code",
   "execution_count": 7,
   "metadata": {},
   "outputs": [
    {
     "data": {
      "text/plain": [
       "array([19, 19, 18, 18, 18, 14, 13, 16, 14, 17, 19, 16, 17, 16, 15, 18, 18,\n",
       "       14, 13, 16, 16, 17, 17, 13, 13, 14, 19, 17, 17, 17, 15, 15, 17, 18,\n",
       "       17, 15, 16, 15, 16, 16, 17, 13, 16, 15, 18, 17, 13, 16, 17, 18, 15,\n",
       "       18, 18, 17, 19, 18, 15, 17, 16, 15, 14, 15, 18, 15, 17, 17, 15, 17,\n",
       "       16, 17, 17, 16, 17, 14, 14, 15, 17, 17, 16, 13, 12, 17, 15, 16, 13,\n",
       "       17, 18, 14, 16, 16, 17, 15, 15, 18, 13, 16, 19, 16, 16, 17, 15, 13,\n",
       "       15, 18, 14, 16, 16, 14, 16, 17, 17, 16, 13, 14, 14, 16, 17, 17, 14,\n",
       "       17, 14, 16, 14, 16, 15, 12, 19, 18, 16, 12, 14, 17, 14, 17, 17, 16,\n",
       "       16, 18, 13, 16, 16, 14, 13, 16, 14, 16, 16, 16, 16, 16, 18, 14, 15,\n",
       "       17, 18, 17, 17, 16, 17, 15, 16, 17, 16, 14, 16, 16, 17, 13, 13, 15,\n",
       "       11, 11, 18, 14, 19, 17, 14, 14, 20, 14, 17, 17, 14, 19, 18, 17, 16,\n",
       "       15, 18, 18, 17, 17, 16, 20, 15, 17, 18, 17, 16, 19, 15, 17, 14, 19,\n",
       "       16, 14, 16, 18, 15, 17, 18, 16, 16, 15, 17, 16, 16, 16, 15, 14, 17,\n",
       "       17, 12, 15, 17, 14, 15, 14, 14, 17, 16, 18, 15, 18, 16, 15, 17, 19,\n",
       "       15, 15, 16, 16, 15, 17, 17, 17, 14, 18, 16, 13, 15, 15, 17, 17, 15,\n",
       "       15, 14, 13, 19, 16, 16, 13, 14, 16, 17, 16, 17, 15, 17, 14, 16, 16,\n",
       "       15, 13, 17, 18, 15, 14, 16, 19, 18, 15, 17, 18, 19, 18, 16, 16, 17,\n",
       "       18, 17, 14, 16, 18, 14, 19, 18, 13, 13, 16, 17, 17, 16, 16, 14, 15,\n",
       "       17, 17, 18, 16, 18, 19, 17, 17, 15, 16, 17, 13, 16, 17, 19, 16, 19,\n",
       "       18, 18, 17, 14, 13, 16, 18, 18, 15, 17, 15, 16, 17, 16, 18, 16, 14,\n",
       "       15, 16, 17, 14, 15, 16, 18, 14, 16, 14, 14, 17, 16, 17, 17, 18, 18,\n",
       "       15, 15, 16, 15, 16, 10, 15, 14, 17, 16, 14, 14, 13, 17, 16, 13, 12,\n",
       "       16, 18, 16, 17, 18, 14, 14, 18, 17, 14, 15, 16, 15, 15, 17, 16, 18,\n",
       "       15, 16, 17, 17, 15, 15, 17, 16, 17, 14, 19, 18, 13, 17, 16, 14, 16,\n",
       "       15, 15, 16, 17, 17, 17, 15, 17, 17, 15, 14, 17, 17, 17, 17, 16, 17,\n",
       "       17, 16, 15, 17, 17, 14, 15, 19, 16, 14, 14, 15, 19, 16, 16, 18, 19,\n",
       "       18, 16, 14, 16, 15, 17, 18, 15, 17, 17, 18, 17, 13, 17, 16, 13, 18,\n",
       "       17, 15, 15, 16, 17, 15, 17, 16, 12, 16, 16, 17, 15, 19, 18, 19, 15,\n",
       "       15, 17, 16, 16, 16, 15, 14, 17, 16, 15, 17, 12, 17, 15, 16, 16, 16,\n",
       "       18, 16, 16, 15, 17, 14, 19, 16, 14, 16, 16, 18, 17, 15, 15, 19, 17,\n",
       "       16, 12, 13, 14, 16, 16, 16, 15, 17, 14, 19, 14, 18, 12, 18, 17, 16,\n",
       "       17, 14, 14, 17, 16, 16, 15, 16, 17, 15, 18, 19, 17, 16, 18, 16, 14,\n",
       "       19, 14, 18, 15, 16, 12, 12, 13, 13, 19, 16, 15, 17, 17, 13, 19, 15,\n",
       "       18, 11, 16, 17, 11, 14, 15, 17, 14, 16, 14, 15, 19, 15, 14, 18, 18,\n",
       "       16, 11, 15, 16, 17, 13, 15, 16, 17, 16, 14, 17, 15, 19, 16, 13, 15,\n",
       "       18, 19, 15, 16, 15, 17, 19, 14, 17, 18, 19, 16, 16, 16, 18, 15, 17,\n",
       "       19, 11, 17, 16, 15, 18, 17, 15, 14, 15, 17, 15, 17, 15, 15, 19, 17,\n",
       "       15, 15, 16, 13, 14, 13, 16, 16, 13, 18, 16, 15, 17, 18, 15, 19, 16,\n",
       "       18, 17, 19, 13, 14, 17, 13, 16, 17, 14, 13, 18, 17, 16, 16, 18, 11,\n",
       "       17, 16, 19, 16, 15, 13, 19, 16, 15, 15, 15, 18, 15, 12, 13, 17, 17,\n",
       "       16, 15, 15, 13, 17, 15, 18, 12, 12, 16, 15, 18, 17, 15, 14, 14, 16,\n",
       "       17, 17, 17, 18, 17, 16, 14, 15, 16, 15, 16, 16, 16, 14, 17, 14, 16,\n",
       "       16, 16, 13, 16, 18, 15, 16, 19, 14, 16, 14, 16, 17, 18, 17, 15, 15,\n",
       "       17, 16, 15, 13, 14, 17, 17, 18, 18, 15, 14, 17, 14, 17, 16, 16, 15,\n",
       "       17, 16, 16, 15, 16, 18, 16, 18, 16, 16, 16, 17, 12, 19, 18, 15, 13,\n",
       "       14, 15, 17, 18, 20, 15, 17, 16, 16, 13, 17, 17, 15, 15, 15, 15, 18,\n",
       "       15, 17, 16, 15, 14, 17, 16, 16, 17, 15, 15, 19, 14, 18, 18, 17, 18,\n",
       "       17, 18, 18, 14, 16, 13, 19, 16, 15, 14, 14, 14, 14, 17, 16, 13, 18,\n",
       "       17, 15, 17, 11, 16, 18, 19, 13, 17, 17, 18, 16, 16, 16, 17, 17, 15,\n",
       "       16, 17, 15, 18, 17, 16, 14, 15, 18, 18, 16, 16, 12, 18, 17, 16, 18,\n",
       "       16, 13, 19, 15, 17, 13, 18, 16, 15, 11, 13, 15, 15, 17, 17, 17, 16,\n",
       "       16, 15, 12, 17, 17, 16, 14, 15, 15, 18, 18, 13, 12, 17, 18, 16, 16,\n",
       "       17, 14, 16, 16, 15, 17, 15, 17, 15, 13, 17, 20, 18, 18, 18, 18, 18,\n",
       "       16, 15, 16, 15, 15, 17, 16, 16, 14, 18, 15, 17, 19, 19, 18, 15, 14,\n",
       "       19, 15, 14, 17, 16, 15, 17, 16, 15, 13, 16, 17, 11, 15, 15, 17, 16,\n",
       "       14, 16, 17, 12, 17, 14, 14, 15, 18, 16, 14, 14, 16, 17, 12, 16, 17,\n",
       "       19, 16, 16, 15, 17, 15, 14, 17, 18, 14, 16, 18, 16, 18, 18, 14, 15,\n",
       "       18, 15, 16, 15, 15, 19, 17, 15, 17, 14, 18, 16, 14, 17, 18, 17, 17,\n",
       "       14, 13, 17, 16, 19, 18, 17, 15, 17, 19, 17, 15, 19, 16])"
      ]
     },
     "execution_count": 7,
     "metadata": {},
     "output_type": "execute_result"
    }
   ],
   "source": [
    "y"
   ]
  },
  {
   "cell_type": "code",
   "execution_count": null,
   "metadata": {},
   "outputs": [],
   "source": [
    "# Q6. Write a Python function to calculate the cumulative distribution function of a Poisson distribution\n",
    "# with given mean at a given point.\n",
    "\n"
   ]
  },
  {
   "cell_type": "code",
   "execution_count": 8,
   "metadata": {},
   "outputs": [
    {
     "data": {
      "text/plain": [
       "0.18044704431548358"
      ]
     },
     "execution_count": 8,
     "metadata": {},
     "output_type": "execute_result"
    }
   ],
   "source": [
    "\"\"\"mean=lam, x=k\"\"\"\n",
    "import math\n",
    "\n",
    "def calc_poi_cdf(lam, k):\n",
    "    poi_cdf = 0\n",
    "    for i in range(k+1):\n",
    "        poi_cdf= math.exp(-lam) * (lam**i / math.factorial(i))\n",
    "    return poi_cdf\n",
    "calc_poi_cdf(2, 3)"
   ]
  },
  {
   "cell_type": "code",
   "execution_count": null,
   "metadata": {},
   "outputs": [],
   "source": [
    "# Q7. How Binomial distribution different from Poisson distribution?\n",
    "\"\"\"\n",
    "\n",
    "trials---->The Binomial distribution describes the number of successes in a fixed number of independent trials, \n",
    "while the Poisson distribution describes the number of occurrences of an event in a fixed interval of time or space.\n",
    "\n",
    "P(success)--------> the probability of success is constant for all trials, while \n",
    "in the Poisson distribution, the probability of occurrence of an event is constant over time or space.\n",
    "\n",
    "Count data------>  Poisson distribution is typically used to model count data, where the number of occurrences of an \n",
    "event in a fixed interval is of interest. The Binomial distribution, on the other hand, is typically used to model\n",
    "binary data, where there are only two possible outcomes for each trial.\n",
    "\n",
    "prperty------> The Binomial distribution assumes that the trials are independent and identically distributed, while \n",
    "the Poisson distribution assumes that the events occur independently and with a constant rate.\n",
    "\n",
    "Shape-----> The shape of the Binomial distribution is generally bell-shaped and symmetric, while the shape of the Poisson\n",
    " distribution is typically skewed to the right.\n",
    "\n",
    " Binomial and Poisson distributions are discrete probability distributions that model count \n",
    "data, the Binomial distribution applies to situations where there are a fixed number of trials with a constant probability \n",
    "of success, while the Poisson distribution applies to situations where the number of occurrences of an event in a fixed \n",
    "interval is of interest and the probability of occurrence is constant over time or space.\n",
    "\n",
    "\n",
    "\n",
    "\n",
    "\"\"\""
   ]
  },
  {
   "cell_type": "code",
   "execution_count": 9,
   "metadata": {},
   "outputs": [
    {
     "name": "stdout",
     "output_type": "stream",
     "text": [
      "4.969 5.250039\n"
     ]
    }
   ],
   "source": [
    "# Q8. Generate a random sample of size 1000 from a Poisson distribution with mean 5 and calculate the\n",
    "# sample mean and variance.\n",
    "\n",
    "\n",
    "import numpy as np\n",
    "num_list = np.random.poisson(lam=5, size=1000)\n",
    "\n",
    "\n",
    "num_mean = np.mean(num_list)\n",
    "num_variance = np.var(num_list)\n",
    "\n",
    "print(num_mean,num_variance)\n",
    "\n"
   ]
  },
  {
   "cell_type": "code",
   "execution_count": null,
   "metadata": {},
   "outputs": [],
   "source": [
    "# Q9. How mean and variance are related in Binomial distribution and Poisson distribution?\n",
    "\n",
    "\"\"\"for poisson distribution , mean= (lambda*t)       variance= (lambda*t )   lambda is the expected no of event  in a \n",
    "given time interval mean and the variance are independent of the probability of success\"\"\"\n",
    "\n",
    "\"\"\"for binomial distribution ,mean = np   variance=npq  ,mean and the variance are depedent on the probability of success\"\"\""
   ]
  },
  {
   "cell_type": "code",
   "execution_count": null,
   "metadata": {},
   "outputs": [],
   "source": [
    "\"\"\"Q10. In normal distribution with respect to mean position, where does the least frequent data appear?\n",
    "\n",
    "\n",
    "In a normal distribution, the data is symmetrically distributed around the mean.\n",
    "highest frequency of data points is centered around the mean, and the frequencies gradually decrease as we move away\n",
    "The least frequent data points are located at the tails of the distribution, furthest from the mean. The tails of a \n",
    "normal distribution meet x axis at infinity, but as we move further away from the mean, the frequency of data points\n",
    " becomes increasingly rare. \n",
    "\n",
    "\"\"\""
   ]
  }
 ],
 "metadata": {
  "kernelspec": {
   "display_name": "Python 3",
   "language": "python",
   "name": "python3"
  },
  "language_info": {
   "codemirror_mode": {
    "name": "ipython",
    "version": 3
   },
   "file_extension": ".py",
   "mimetype": "text/x-python",
   "name": "python",
   "nbconvert_exporter": "python",
   "pygments_lexer": "ipython3",
   "version": "3.11.2"
  },
  "orig_nbformat": 4
 },
 "nbformat": 4,
 "nbformat_minor": 2
}
